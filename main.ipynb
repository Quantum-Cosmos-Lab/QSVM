{
 "cells": [
  {
   "cell_type": "markdown",
   "metadata": {},
   "source": [
    "# Full class QSVM"
   ]
  },
  {
   "cell_type": "code",
   "execution_count": 1,
   "metadata": {},
   "outputs": [],
   "source": [
    "import numpy as np\n",
    "\n",
    "from Qiskit.lib.QSVM import QSVM"
   ]
  },
  {
   "cell_type": "code",
   "execution_count": 2,
   "metadata": {},
   "outputs": [
    {
     "name": "stdout",
     "output_type": "stream",
     "text": [
      "[[0.70710678 0.70710678 0.        ]\n",
      " [0.70710678 0.5        0.5       ]\n",
      " [1.         0.         0.        ]]\n"
     ]
    }
   ],
   "source": [
    "# Example data array (M x N)\n",
    "data_array = np.array([\n",
    "        [1/np.sqrt(2), 1/np.sqrt(2),0], \n",
    "        [1/np.sqrt(2), 1/2,1/2],\n",
    "        [1,0,0]\n",
    "        ])\n",
    "\n",
    "#data_array = np.array([\n",
    "#        [1/np.sqrt(2), 1/np.sqrt(2)], \n",
    "#        [1, 0]\n",
    "#        ])\n",
    "y = np.array([1,1,-1])\n",
    "\n",
    "v = np.array([1,2,3])\n",
    "v = v/np.linalg.norm(v)\n",
    "\n",
    "# Preprocess data\n",
    "data_array = np.array([x/np.linalg.norm(x) for x in data_array])\n",
    "print(data_array)"
   ]
  },
  {
   "cell_type": "code",
   "execution_count": 3,
   "metadata": {},
   "outputs": [
    {
     "name": "stdout",
     "output_type": "stream",
     "text": [
      "[0.05688535-8.29197822e-15j 0.08960536+1.43288159e-15j\n",
      " 0.08960536+1.54390389e-15j 0.01172449-9.86710713e-15j]\n"
     ]
    }
   ],
   "source": [
    "clf = QSVM()\n",
    "clf.fit(data_array,y,t=1)"
   ]
  },
  {
   "cell_type": "code",
   "execution_count": 4,
   "metadata": {},
   "outputs": [
    {
     "data": {
      "text/plain": [
       "1"
      ]
     },
     "execution_count": 4,
     "metadata": {},
     "output_type": "execute_result"
    }
   ],
   "source": [
    "clf.predict(v)"
   ]
  },
  {
   "cell_type": "markdown",
   "metadata": {},
   "source": [
    "## Non-normalized vectors in the dataset"
   ]
  },
  {
   "cell_type": "code",
   "execution_count": 5,
   "metadata": {},
   "outputs": [
    {
     "name": "stdout",
     "output_type": "stream",
     "text": [
      "[[1 1 0]\n",
      " [1 1 1]\n",
      " [1 0 0]]\n"
     ]
    }
   ],
   "source": [
    "# Example data array (M x N)\n",
    "data_array = np.array([\n",
    "        [1, 1,0], \n",
    "        [1, 1,1],\n",
    "        [1,0,0]\n",
    "        ])\n",
    "\n",
    "#data_array = np.array([\n",
    "#        [1/np.sqrt(2), 1/np.sqrt(2)], \n",
    "#        [1, 0]\n",
    "#        ])\n",
    "y = np.array([1,1,-1])\n",
    "\n",
    "v = np.array([1,2,3])\n",
    "v = v/np.linalg.norm(v)\n",
    "\n",
    "# Preprocess data\n",
    "#data_array = np.array([x/np.linalg.norm(x) for x in data_array])\n",
    "print(data_array)"
   ]
  },
  {
   "cell_type": "code",
   "execution_count": 6,
   "metadata": {},
   "outputs": [
    {
     "name": "stdout",
     "output_type": "stream",
     "text": [
      "       ┌──────────────┐┌──────┐        ┌─────────┐\n",
      "q10_0: ┤0             ├┤5     ├────────┤5        ├\n",
      "       │  circuit-266 ││      │        │         │\n",
      "q10_1: ┤1             ├┤6     ├────────┤6        ├\n",
      "       └──────────────┘│      │┌──────┐│         │\n",
      "q11_0: ────────────────┤0     ├┤4     ├┤0        ├\n",
      "                       │      ││      ││         │\n",
      "q11_1: ────────────────┤1 QPE ├┤3     ├┤1 QPE_dg ├\n",
      "                       │      ││      ││         │\n",
      "q11_2: ────────────────┤2     ├┤2     ├┤2        ├\n",
      "                       │      ││  1/x ││         │\n",
      "q11_3: ────────────────┤3     ├┤1     ├┤3        ├\n",
      "                       │      ││      ││         │\n",
      "q11_4: ────────────────┤4     ├┤0     ├┤4        ├\n",
      "                       └──────┘│      │└─────────┘\n",
      "  q12: ────────────────────────┤5     ├───────────\n",
      "                               └──────┘           \n",
      "Solution's fidelity:  0.9740633704378548\n",
      "[-0.00900145+4.08551773e-15j  0.32957407-1.27068495e-14j\n",
      "  0.25526593-1.82718424e-14j -0.49192873+3.56043320e-14j]\n"
     ]
    }
   ],
   "source": [
    "clf = QSVM(n_l=5,info=True)\n",
    "clf.fit(data_array,y,t=1)"
   ]
  },
  {
   "cell_type": "code",
   "execution_count": 7,
   "metadata": {},
   "outputs": [
    {
     "data": {
      "text/plain": [
       "1"
      ]
     },
     "execution_count": 7,
     "metadata": {},
     "output_type": "execute_result"
    }
   ],
   "source": [
    "clf.predict(v)"
   ]
  },
  {
   "cell_type": "markdown",
   "metadata": {},
   "source": [
    "## \"Non-quantum\" sizes of the datasets"
   ]
  },
  {
   "cell_type": "code",
   "execution_count": 8,
   "metadata": {},
   "outputs": [
    {
     "name": "stdout",
     "output_type": "stream",
     "text": [
      "[[1 0]\n",
      " [1 1]]\n"
     ]
    }
   ],
   "source": [
    "# Example data array (M x N)\n",
    "data_array = np.array([\n",
    "        [1, 0], \n",
    "        [1, 1],\n",
    "        ])\n",
    "\n",
    "#data_array = np.array([\n",
    "#        [1/np.sqrt(2), 1/np.sqrt(2)], \n",
    "#        [1, 0]\n",
    "#        ])\n",
    "y = np.array([1,-1])\n",
    "\n",
    "v = np.array([1,3])\n",
    "v = v/np.linalg.norm(v)\n",
    "\n",
    "# Preprocess data\n",
    "#data_array = np.array([x/np.linalg.norm(x) for x in data_array])\n",
    "print(data_array)"
   ]
  },
  {
   "cell_type": "code",
   "execution_count": 11,
   "metadata": {},
   "outputs": [
    {
     "name": "stdout",
     "output_type": "stream",
     "text": [
      "       ┌──────────────┐┌──────┐        ┌─────────┐\n",
      "q15_0: ┤0             ├┤2     ├────────┤2        ├\n",
      "       │  circuit-449 ││      │        │         │\n",
      "q15_1: ┤1             ├┤3     ├────────┤3        ├\n",
      "       └──────────────┘│  QPE │┌──────┐│  QPE_dg │\n",
      "q16_0: ────────────────┤0     ├┤1     ├┤0        ├\n",
      "                       │      ││      ││         │\n",
      "q16_1: ────────────────┤1     ├┤0 1/x ├┤1        ├\n",
      "                       └──────┘│      │└─────────┘\n",
      "  q17: ────────────────────────┤2     ├───────────\n",
      "                               └──────┘           \n",
      "Solution's fidelity:  0.8221471611539656\n",
      "[-0.01147641-4.16902840e-16j  0.03412538-3.46944695e-17j\n",
      " -0.07062967-1.17961196e-16j  0.00037862-6.18212079e-16j]\n"
     ]
    }
   ],
   "source": [
    "clf = QSVM(info=True)\n",
    "clf.fit(data_array, y)"
   ]
  },
 "metadata": {
  "interpreter": {
   "hash": "2fa73f1293ed483c78b6a32360b40bbd1df395280783fc5aaaa46bc6bb5efdbd"
  },
  "kernelspec": {
   "display_name": "Python 3.10.8 ('quantum')",
   "language": "python",
   "name": "python3"
  },
  "language_info": {
   "codemirror_mode": {
    "name": "ipython",
    "version": 3
   },
   "file_extension": ".py",
   "mimetype": "text/x-python",
   "name": "python",
   "nbconvert_exporter": "python",
   "pygments_lexer": "ipython3",
   "version": "3.10.8"
  },
  "orig_nbformat": 4
 },
 "nbformat": 4,
 "nbformat_minor": 2
}
