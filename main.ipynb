{
 "cells": [
  {
   "cell_type": "markdown",
   "metadata": {},
   "source": [
    "# Full class QSVM"
   ]
  },
  {
   "cell_type": "code",
   "execution_count": 1,
   "metadata": {},
   "outputs": [],
   "source": [
    "import numpy as np\n",
    "\n",
    "from Qiskit.lib.QSVM import QSVM"
   ]
  },
  {
   "cell_type": "code",
   "execution_count": 2,
   "metadata": {},
   "outputs": [
    {
     "name": "stdout",
     "output_type": "stream",
     "text": [
      "[[0.70710678 0.70710678 0.        ]\n",
      " [0.70710678 0.5        0.5       ]\n",
      " [1.         0.         0.        ]]\n"
     ]
    }
   ],
   "source": [
    "# Example data array (M x N)\n",
    "data_array = np.array([\n",
    "        [1/np.sqrt(2), 1/np.sqrt(2),0], \n",
    "        [1/np.sqrt(2), 1/2,1/2],\n",
    "        [1,0,0]\n",
    "        ])\n",
    "\n",
    "#data_array = np.array([\n",
    "#        [1/np.sqrt(2), 1/np.sqrt(2)], \n",
    "#        [1, 0]\n",
    "#        ])\n",
    "y = np.array([1,1,-1])\n",
    "\n",
    "v = np.array([1,2,3])\n",
    "v = v/np.linalg.norm(v)\n",
    "\n",
    "# Preprocess data\n",
    "data_array = np.array([x/np.linalg.norm(x) for x in data_array])\n",
    "print(data_array)"
   ]
  },
  {
   "cell_type": "code",
   "execution_count": 3,
   "metadata": {},
   "outputs": [
    {
     "name": "stdout",
     "output_type": "stream",
     "text": [
      "[0.05688535-8.29197822e-15j 0.08960536+1.43288159e-15j\n",
      " 0.08960536+1.54390389e-15j 0.01172449-9.86710713e-15j]\n"
     ]
    }
   ],
   "source": [
    "clf = QSVM()\n",
    "clf.fit(data_array,y,t=1)"
   ]
  },
  {
   "cell_type": "code",
   "execution_count": 4,
   "metadata": {},
   "outputs": [
    {
     "data": {
      "text/plain": [
       "1"
      ]
     },
     "execution_count": 4,
     "metadata": {},
     "output_type": "execute_result"
    }
   ],
   "source": [
    "clf.predict(v)"
   ]
  },
  {
   "cell_type": "markdown",
   "metadata": {},
   "source": [
    "## Non-normalized vectors in the dataset"
   ]
  },
  {
   "cell_type": "code",
   "execution_count": 5,
   "metadata": {},
   "outputs": [
    {
     "name": "stdout",
     "output_type": "stream",
     "text": [
      "[[1 1 0]\n",
      " [1 1 1]\n",
      " [1 0 0]]\n"
     ]
    }
   ],
   "source": [
    "# Example data array (M x N)\n",
    "data_array = np.array([\n",
    "        [1, 1,0], \n",
    "        [1, 1,1],\n",
    "        [1,0,0]\n",
    "        ])\n",
    "\n",
    "#data_array = np.array([\n",
    "#        [1/np.sqrt(2), 1/np.sqrt(2)], \n",
    "#        [1, 0]\n",
    "#        ])\n",
    "y = np.array([1,1,-1])\n",
    "\n",
    "v = np.array([1,2,3])\n",
    "v = v/np.linalg.norm(v)\n",
    "\n",
    "# Preprocess data\n",
    "#data_array = np.array([x/np.linalg.norm(x) for x in data_array])\n",
    "print(data_array)"
   ]
  },
  {
   "cell_type": "code",
   "execution_count": 6,
   "metadata": {},
   "outputs": [
    {
     "name": "stdout",
     "output_type": "stream",
     "text": [
      "       ┌──────────────┐┌──────┐        ┌─────────┐\n",
      "q10_0: ┤0             ├┤5     ├────────┤5        ├\n",
      "       │  circuit-266 ││      │        │         │\n",
      "q10_1: ┤1             ├┤6     ├────────┤6        ├\n",
      "       └──────────────┘│      │┌──────┐│         │\n",
      "q11_0: ────────────────┤0     ├┤4     ├┤0        ├\n",
      "                       │      ││      ││         │\n",
      "q11_1: ────────────────┤1 QPE ├┤3     ├┤1 QPE_dg ├\n",
      "                       │      ││      ││         │\n",
      "q11_2: ────────────────┤2     ├┤2     ├┤2        ├\n",
      "                       │      ││  1/x ││         │\n",
      "q11_3: ────────────────┤3     ├┤1     ├┤3        ├\n",
      "                       │      ││      ││         │\n",
      "q11_4: ────────────────┤4     ├┤0     ├┤4        ├\n",
      "                       └──────┘│      │└─────────┘\n",
      "  q12: ────────────────────────┤5     ├───────────\n",
      "                               └──────┘           \n",
      "Solution's fidelity:  0.9740633704378548\n",
      "[-0.00900145+4.08551773e-15j  0.32957407-1.27068495e-14j\n",
      "  0.25526593-1.82718424e-14j -0.49192873+3.56043320e-14j]\n"
     ]
    }
   ],
   "source": [
    "clf = QSVM(n_l=5,info=True)\n",
    "clf.fit(data_array,y,t=1)"
   ]
  },
  {
   "cell_type": "code",
   "execution_count": 7,
   "metadata": {},
   "outputs": [
    {
     "data": {
      "text/plain": [
       "1"
      ]
     },
     "execution_count": 7,
     "metadata": {},
     "output_type": "execute_result"
    }
   ],
   "source": [
    "clf.predict(v)"
   ]
  },
  {
   "cell_type": "markdown",
   "metadata": {},
   "source": [
    "## \"Non-quantum\" sizes of the datasets"
   ]
  },
  {
   "cell_type": "code",
   "execution_count": 8,
   "metadata": {},
   "outputs": [
    {
     "name": "stdout",
     "output_type": "stream",
     "text": [
      "[[1 0]\n",
      " [1 1]]\n"
     ]
    }
   ],
   "source": [
    "# Example data array (M x N)\n",
    "data_array = np.array([\n",
    "        [1, 0], \n",
    "        [1, 1],\n",
    "        ])\n",
    "\n",
    "#data_array = np.array([\n",
    "#        [1/np.sqrt(2), 1/np.sqrt(2)], \n",
    "#        [1, 0]\n",
    "#        ])\n",
    "y = np.array([1,-1])\n",
    "\n",
    "v = np.array([1,3])\n",
    "v = v/np.linalg.norm(v)\n",
    "\n",
    "# Preprocess data\n",
    "#data_array = np.array([x/np.linalg.norm(x) for x in data_array])\n",
    "print(data_array)"
   ]
  },
  {
   "cell_type": "code",
   "execution_count": 11,
   "metadata": {},
   "outputs": [
    {
     "name": "stdout",
     "output_type": "stream",
     "text": [
      "       ┌──────────────┐┌──────┐        ┌─────────┐\n",
      "q15_0: ┤0             ├┤2     ├────────┤2        ├\n",
      "       │  circuit-449 ││      │        │         │\n",
      "q15_1: ┤1             ├┤3     ├────────┤3        ├\n",
      "       └──────────────┘│  QPE │┌──────┐│  QPE_dg │\n",
      "q16_0: ────────────────┤0     ├┤1     ├┤0        ├\n",
      "                       │      ││      ││         │\n",
      "q16_1: ────────────────┤1     ├┤0 1/x ├┤1        ├\n",
      "                       └──────┘│      │└─────────┘\n",
      "  q17: ────────────────────────┤2     ├───────────\n",
      "                               └──────┘           \n",
      "Solution's fidelity:  0.8221471611539656\n",
      "[-0.01147641-4.16902840e-16j  0.03412538-3.46944695e-17j\n",
      " -0.07062967-1.17961196e-16j  0.00037862-6.18212079e-16j]\n"
     ]
    }
   ],
   "source": [
    "clf = QSVM(info=True)\n",
    "clf.fit(data_array, y)"
   ]
  },
  {
   "cell_type": "markdown",
   "metadata": {},
   "source": [
    "# OLD"
   ]
  },
  {
   "cell_type": "code",
   "execution_count": 1,
   "metadata": {},
   "outputs": [],
   "source": [
    "import numpy as np"
   ]
  },
  {
   "cell_type": "code",
   "execution_count": 2,
   "metadata": {},
   "outputs": [],
   "source": [
    "def obligacje_rownowaga(i,t,p,m,b):\n",
    "    return(((1+p)*np.power((1+i+m),t-1)-1)*(1-b) - (np.power(1+i,t)-1))"
   ]
  },
  {
   "cell_type": "code",
   "execution_count": 25,
   "metadata": {},
   "outputs": [],
   "source": [
    "b=0.19\n",
    "\n",
    "t_EDO = 10\n",
    "m_EDO = 0.02\n",
    "p_EDO = 0.0655\n",
    "\n",
    "t_ROD = 12\n",
    "m_ROD = 0.025\n",
    "p_ROD = 0.068"
   ]
  },
  {
   "cell_type": "code",
   "execution_count": 16,
   "metadata": {},
   "outputs": [
    {
     "data": {
      "text/plain": [
       "-0.001838462004263075"
      ]
     },
     "execution_count": 16,
     "metadata": {},
     "output_type": "execute_result"
    }
   ],
   "source": [
    "obligacje_rownowaga(0.098,t_EDO,p_EDO,m_EDO,b)"
   ]
  },
  {
   "cell_type": "code",
   "execution_count": 23,
   "metadata": {},
   "outputs": [
    {
     "data": {
      "text/plain": [
       "-0.0026455039090394483"
      ]
     },
     "execution_count": 23,
     "metadata": {},
     "output_type": "execute_result"
    }
   ],
   "source": [
    "obligacje_rownowaga(0.037,10,0.017,0.01,b)"
   ]
  },
  {
   "cell_type": "code",
   "execution_count": 35,
   "metadata": {},
   "outputs": [
    {
     "data": {
      "text/plain": [
       "0.006466524956541875"
      ]
     },
     "execution_count": 35,
     "metadata": {},
     "output_type": "execute_result"
    }
   ],
   "source": [
    "obligacje_rownowaga(0.141,t_ROD,p_ROD,m_ROD,b)"
   ]
  },
  {
   "cell_type": "code",
   "execution_count": 1,
   "metadata": {},
   "outputs": [],
   "source": [
    "import pennylane as qml\n",
    "import numpy as np\n",
    "\n",
    "import matplotlib.pyplot as plt\n",
    "from sklearn.preprocessing import normalize"
   ]
  },
  {
   "cell_type": "code",
   "execution_count": 2,
   "metadata": {},
   "outputs": [],
   "source": [
    "def array_2_vector(a):\n",
    "    return(a.reshape([a.shape[0]*a.shape[1],]))"
   ]
  },
  {
   "cell_type": "markdown",
   "metadata": {},
   "source": [
    "## Training"
   ]
  },
  {
   "cell_type": "markdown",
   "metadata": {},
   "source": [
    "## Classification"
   ]
  },
  {
   "cell_type": "code",
   "execution_count": 3,
   "metadata": {},
   "outputs": [],
   "source": [
    "dev = qml.device('default.qubit', wires=2)"
   ]
  },
  {
   "cell_type": "code",
   "execution_count": 4,
   "metadata": {},
   "outputs": [],
   "source": [
    "b=0.5\n",
    "alphas = np.array([0.1,0.2,0.0])\n",
    "\n",
    "w = np.concatenate([np.array([b]),alphas])"
   ]
  },
  {
   "cell_type": "code",
   "execution_count": 5,
   "metadata": {},
   "outputs": [],
   "source": [
    "w_normalized = w/np.linalg.norm(w)"
   ]
  },
  {
   "cell_type": "code",
   "execution_count": 6,
   "metadata": {},
   "outputs": [
    {
     "data": {
      "text/plain": [
       "0.9999999999999999"
      ]
     },
     "execution_count": 6,
     "metadata": {},
     "output_type": "execute_result"
    }
   ],
   "source": [
    "np.dot(w_normalized, w_normalized)"
   ]
  },
  {
   "cell_type": "code",
   "execution_count": 7,
   "metadata": {},
   "outputs": [],
   "source": [
    "@qml.qnode(dev)\n",
    "def hyperplane_state_setup(b,alphas):\n",
    "    w = np.concatenate([np.array([b]),alphas])\n",
    "    w_normalized = w/np.linalg.norm(w)\n",
    "\n",
    "    #qml.AmplitudeEmbedding(features=[1,0,0,0], wires=range(2))\n",
    "    return qml.state()"
   ]
  },
  {
   "cell_type": "code",
   "execution_count": 8,
   "metadata": {},
   "outputs": [
    {
     "name": "stdout",
     "output_type": "stream",
     "text": [
      "n_features:  2\n",
      "n_data:  2\n"
     ]
    }
   ],
   "source": [
    "N= 4\n",
    "M = 3\n",
    "n_features = int(np.ceil(np.log2(N)))\n",
    "n_data = int(np.ceil(np.log2(M)))\n",
    "print('n_features: ', n_features)\n",
    "print('n_data: ', n_data)\n",
    "\n",
    "dev_features = qml.device('default.qubit', wires=n_features)\n",
    "dev_data = qml.device('default.qubit', wires=n_data)\n",
    "dev = qml.device('default.qubit', wires=n_data+n_features)"
   ]
  },
  {
   "cell_type": "code",
   "execution_count": 9,
   "metadata": {},
   "outputs": [
    {
     "ename": "NameError",
     "evalue": "name 'x' is not defined",
     "output_type": "error",
     "traceback": [
      "\u001b[0;31m---------------------------------------------------------------------------\u001b[0m",
      "\u001b[0;31mNameError\u001b[0m                                 Traceback (most recent call last)",
      "Cell \u001b[0;32mIn[9], line 1\u001b[0m\n\u001b[0;32m----> 1\u001b[0m np\u001b[38;5;241m.\u001b[39mconcatenate( ([\u001b[38;5;241m0\u001b[39m], \u001b[43mx\u001b[49m ) )\n",
      "\u001b[0;31mNameError\u001b[0m: name 'x' is not defined"
     ]
    }
   ],
   "source": [
    "np.concatenate( ([0], x ) )"
   ]
  },
  {
   "cell_type": "code",
   "execution_count": 10,
   "metadata": {},
   "outputs": [],
   "source": [
    "@qml.qnode(dev_features)\n",
    "def training_data_oracle(x):\n",
    "    x = np.concatenate(([0], x))\n",
    "    x = x/np.linalg.norm(x) #normalize, just in case\n",
    "    n_wires = int(np.ceil(np.log2(len(x))))\n",
    "    qml.AmplitudeEmbedding(features=x, wires=range(n_wires))\n",
    "    return qml.state()"
   ]
  },
  {
   "cell_type": "code",
   "execution_count": 11,
   "metadata": {},
   "outputs": [],
   "source": [
    "@qml.qnode(dev)\n",
    "def training_dataset_oracle(X):\n",
    "    X = np.vstack((np.zeros((1,X.shape[1])),X))\n",
    "    x = array_2_vector(X)\n",
    "    x = x/np.linalg.norm(x) #normalize, just in case\n",
    "    n_wires = int(np.ceil(np.log2(len(x))))\n",
    "    qml.AmplitudeEmbedding(features=x, wires=range(n_wires))\n",
    "    return qml.state()"
   ]
  },
  {
   "cell_type": "code",
   "execution_count": 12,
   "metadata": {},
   "outputs": [],
   "source": [
    "x = np.array([0.1,0.2,0.3])\n",
    "x = x/np.linalg.norm(x)"
   ]
  },
  {
   "cell_type": "code",
   "execution_count": 13,
   "metadata": {},
   "outputs": [],
   "source": [
    "Mstr = np.array([['a','b'],['c','d']])\n",
    "Mstr.reshape([Mstr.shape[0]*Mstr.shape[1],])\n",
    "\n",
    "M = np.array([[1,2],[3,4],[5,6]])"
   ]
  },
  {
   "cell_type": "code",
   "execution_count": 14,
   "metadata": {},
   "outputs": [
    {
     "data": {
      "text/plain": [
       "tensor([0.        +0.j, 0.26726124+0.j, 0.53452248+0.j, 0.80178373+0.j], requires_grad=True)"
      ]
     },
     "execution_count": 14,
     "metadata": {},
     "output_type": "execute_result"
    }
   ],
   "source": [
    "training_data_oracle(x)"
   ]
  },
  {
   "cell_type": "code",
   "execution_count": 15,
   "metadata": {},
   "outputs": [
    {
     "data": {
      "text/plain": [
       "tensor([0.        +0.j, 0.        +0.j, 0.        +0.j, 0.        +0.j,\n",
       "        0.10482848+0.j, 0.        +0.j, 0.20965697+0.j, 0.        +0.j,\n",
       "        0.31448545+0.j, 0.        +0.j, 0.41931393+0.j, 0.        +0.j,\n",
       "        0.52414242+0.j, 0.        +0.j, 0.6289709 +0.j, 0.        +0.j], requires_grad=True)"
      ]
     },
     "execution_count": 15,
     "metadata": {},
     "output_type": "execute_result"
    }
   ],
   "source": [
    "training_dataset_oracle(M)"
   ]
  },
  {
   "cell_type": "markdown",
   "metadata": {},
   "source": [
    "## SWAP test"
   ]
  },
  {
   "cell_type": "code",
   "execution_count": 30,
   "metadata": {},
   "outputs": [],
   "source": [
    "def fake_SWAP_test(state_1_features, state_2_features):\n",
    "    state0 = qml.math.dm_from_state_vector(state_1_features)\n",
    "    state1 = qml.math.dm_from_state_vector(state_2_features)\n",
    "    return 0.5*(1-qml.math.fidelity(state0, state1))"
   ]
  },
  {
   "cell_type": "code",
   "execution_count": 28,
   "metadata": {},
   "outputs": [
    {
     "data": {
      "text/plain": [
       "0.0"
      ]
     },
     "execution_count": 28,
     "metadata": {},
     "output_type": "execute_result"
    }
   ],
   "source": [
    "state0 = qml.math.dm_from_state_vector([1, 0])\n",
    "state1 = qml.math.dm_from_state_vector([0,1])\n",
    "qml.math.fidelity(state0, state1)"
   ]
  },
  {
   "cell_type": "code",
   "execution_count": 55,
   "metadata": {},
   "outputs": [
    {
     "name": "stdout",
     "output_type": "stream",
     "text": [
      "[1 2 3]\n",
      "[4 5 6]\n"
     ]
    }
   ],
   "source": [
    "n_states=3\n",
    "a1 = np.arange(1,n_states+1,1)\n",
    "print(a1)\n",
    "a2 = np.arange(n_states+1,2*n_states+1,1)\n",
    "print(a2)"
   ]
  },
  {
   "cell_type": "code",
   "execution_count": 50,
   "metadata": {},
   "outputs": [
    {
     "name": "stdout",
     "output_type": "stream",
     "text": [
      "1\n",
      "2\n",
      "3\n",
      "----\n",
      "4\n",
      "5\n",
      "6\n"
     ]
    }
   ],
   "source": [
    "\n",
    "for i in range(1,n_states+1):\n",
    "    print(i)\n",
    "\n",
    "print('----')\n",
    "for i in range(n_states+1, 2*n_states+1):\n",
    "    print(i)\n",
    "\n",
    "    "
   ]
  },
  {
   "cell_type": "code",
   "execution_count": 31,
   "metadata": {},
   "outputs": [],
   "source": [
    "dev_swap = qml.device('default.qubit', wires=3)"
   ]
  },
  {
   "cell_type": "code",
   "execution_count": 32,
   "metadata": {},
   "outputs": [],
   "source": [
    "dev_swap = qml.device('default.qubit', wires=3)\n",
    "\n",
    "@qml.transforms.merge_amplitude_embedding\n",
    "@qml.qnode(dev_swap)\n",
    "def SWAP_TEST_1_qubit(state_1_features, state_2_features):\n",
    "    qml.AmplitudeEmbedding(features=state_1_features, wires=[1])\n",
    "    qml.AmplitudeEmbedding(features=state_2_features, wires=[2])\n",
    "    qml.Hadamard(wires=[0])\n",
    "    qml.CSWAP(wires=[0,1,2])\n",
    "    qml.Hadamard(wires=[0])\n",
    "\n",
    "    #return(qml.state())\n",
    "    return(qml.probs(wires=[0]))"
   ]
  },
  {
   "cell_type": "code",
   "execution_count": 42,
   "metadata": {},
   "outputs": [
    {
     "name": "stdout",
     "output_type": "stream",
     "text": [
      "0.0023839105929697735\n",
      "0.00238391430936892\n"
     ]
    }
   ],
   "source": [
    "a = np.random.random()\n",
    "b = np.random.random()\n",
    "\n",
    "s_1 = np.array([a,np.sqrt(1-a**2)])\n",
    "s_2 = np.array([b,np.sqrt(1-b**2)])\n",
    "\n",
    "print(fake_SWAP_test(s_1,s_2))\n",
    "print(SWAP_TEST_1_qubit(s_1,s_2)[1])"
   ]
  },
  {
   "cell_type": "code",
   "execution_count": 25,
   "metadata": {},
   "outputs": [
    {
     "data": {
      "text/plain": [
       "1.0"
      ]
     },
     "execution_count": 25,
     "metadata": {},
     "output_type": "execute_result"
    }
   ],
   "source": [
    "s_1 = np.array([1/np.sqrt(2),1/np.sqrt(2)])\n",
    "s_2 = np.array([1/np.sqrt(2),1/np.sqrt(2)])\n",
    "\n",
    "np.around(2*SWAP_TEST_1_qubit(s_1,s_2)[0]-1,decimals=4)"
   ]
  },
  {
   "cell_type": "markdown",
   "metadata": {},
   "source": [
    "## Amplitude embedding on wires"
   ]
  },
  {
   "cell_type": "markdown",
   "metadata": {},
   "source": [
    "We have a device with $n$ wires. We would like to amplitude encode the $s$-qubit state on the the selected subset of wires, $\\{n_1,n_2,\\dots,n_s\\}$"
   ]
  },
  {
   "cell_type": "code",
   "execution_count": 33,
   "metadata": {},
   "outputs": [],
   "source": [
    "dev = qml.device('default.qubit', wires=4)"
   ]
  },
  {
   "cell_type": "code",
   "execution_count": 34,
   "metadata": {},
   "outputs": [
    {
     "ename": "ValueError",
     "evalue": "QNodes cannot be declared as qfunc transforms.",
     "output_type": "error",
     "traceback": [
      "\u001b[0;31m---------------------------------------------------------------------------\u001b[0m",
      "\u001b[0;31mValueError\u001b[0m                                Traceback (most recent call last)",
      "Cell \u001b[0;32mIn[34], line 3\u001b[0m\n\u001b[1;32m      1\u001b[0m \u001b[38;5;129;43m@qml\u001b[39;49m\u001b[38;5;241;43m.\u001b[39;49m\u001b[43mtransforms\u001b[49m\u001b[38;5;241;43m.\u001b[39;49m\u001b[43mmerge_amplitude_embedding\u001b[49m\n\u001b[1;32m      2\u001b[0m \u001b[38;5;129;43m@qml\u001b[39;49m\u001b[38;5;241;43m.\u001b[39;49m\u001b[43mqnode\u001b[49m\u001b[43m(\u001b[49m\u001b[43mdevice\u001b[49m\u001b[38;5;241;43m=\u001b[39;49m\u001b[43mdev\u001b[49m\u001b[43m)\u001b[49m\n\u001b[0;32m----> 3\u001b[0m \u001b[38;5;28;43;01mdef\u001b[39;49;00m\u001b[43m \u001b[49m\u001b[38;5;21;43mcircuit\u001b[39;49m\u001b[43m(\u001b[49m\u001b[43m)\u001b[49m\u001b[43m:\u001b[49m\n\u001b[1;32m      4\u001b[0m \u001b[43m    \u001b[49m\u001b[43mqml\u001b[49m\u001b[38;5;241;43m.\u001b[39;49m\u001b[43mCNOT\u001b[49m\u001b[43m(\u001b[49m\u001b[43mwires\u001b[49m\u001b[43m \u001b[49m\u001b[38;5;241;43m=\u001b[39;49m\u001b[43m \u001b[49m\u001b[43m[\u001b[49m\u001b[38;5;241;43m0\u001b[39;49m\u001b[43m,\u001b[49m\u001b[38;5;241;43m1\u001b[39;49m\u001b[43m]\u001b[49m\u001b[43m)\u001b[49m\n\u001b[1;32m      5\u001b[0m \u001b[43m    \u001b[49m\u001b[43mqml\u001b[49m\u001b[38;5;241;43m.\u001b[39;49m\u001b[43mAmplitudeEmbedding\u001b[49m\u001b[43m(\u001b[49m\u001b[43m[\u001b[49m\u001b[38;5;241;43m0\u001b[39;49m\u001b[43m,\u001b[49m\u001b[38;5;241;43m1\u001b[39;49m\u001b[43m]\u001b[49m\u001b[43m,\u001b[49m\u001b[43m \u001b[49m\u001b[43mwires\u001b[49m\u001b[43m \u001b[49m\u001b[38;5;241;43m=\u001b[39;49m\u001b[43m \u001b[49m\u001b[38;5;241;43m2\u001b[39;49m\u001b[43m)\u001b[49m\n",
      "File \u001b[0;32m~/opt/anaconda3/envs/quantum/lib/python3.10/site-packages/pennylane/transforms/qfunc_transforms.py:405\u001b[0m, in \u001b[0;36mqfunc_transform.<locals>.make_qfunc_transform\u001b[0;34m(fn)\u001b[0m\n\u001b[1;32m    <a href='file:///Users/arturmiroszewski/opt/anaconda3/envs/quantum/lib/python3.10/site-packages/pennylane/transforms/qfunc_transforms.py?line=402'>403</a>\u001b[0m \u001b[39m@functools\u001b[39m\u001b[39m.\u001b[39mwraps(tape_transform)\n\u001b[1;32m    <a href='file:///Users/arturmiroszewski/opt/anaconda3/envs/quantum/lib/python3.10/site-packages/pennylane/transforms/qfunc_transforms.py?line=403'>404</a>\u001b[0m \u001b[39mdef\u001b[39;00m \u001b[39mmake_qfunc_transform\u001b[39m(fn):\n\u001b[0;32m--> <a href='file:///Users/arturmiroszewski/opt/anaconda3/envs/quantum/lib/python3.10/site-packages/pennylane/transforms/qfunc_transforms.py?line=404'>405</a>\u001b[0m     \u001b[39mreturn\u001b[39;00m _create_qfunc_internal_wrapper(fn, tape_transform, [], {})\n",
      "File \u001b[0;32m~/opt/anaconda3/envs/quantum/lib/python3.10/site-packages/pennylane/transforms/qfunc_transforms.py:179\u001b[0m, in \u001b[0;36m_create_qfunc_internal_wrapper\u001b[0;34m(fn, tape_transform, transform_args, transform_kwargs)\u001b[0m\n\u001b[1;32m    <a href='file:///Users/arturmiroszewski/opt/anaconda3/envs/quantum/lib/python3.10/site-packages/pennylane/transforms/qfunc_transforms.py?line=173'>174</a>\u001b[0m     \u001b[39mraise\u001b[39;00m \u001b[39mValueError\u001b[39;00m(\n\u001b[1;32m    <a href='file:///Users/arturmiroszewski/opt/anaconda3/envs/quantum/lib/python3.10/site-packages/pennylane/transforms/qfunc_transforms.py?line=174'>175</a>\u001b[0m         \u001b[39mf\u001b[39m\u001b[39m\"\u001b[39m\u001b[39mThe qfunc to transform, \u001b[39m\u001b[39m{\u001b[39;00mfn\u001b[39m}\u001b[39;00m\u001b[39m, does not appear \u001b[39m\u001b[39m\"\u001b[39m\n\u001b[1;32m    <a href='file:///Users/arturmiroszewski/opt/anaconda3/envs/quantum/lib/python3.10/site-packages/pennylane/transforms/qfunc_transforms.py?line=175'>176</a>\u001b[0m         \u001b[39m\"\u001b[39m\u001b[39mto be a valid Python function or callable.\u001b[39m\u001b[39m\"\u001b[39m\n\u001b[1;32m    <a href='file:///Users/arturmiroszewski/opt/anaconda3/envs/quantum/lib/python3.10/site-packages/pennylane/transforms/qfunc_transforms.py?line=176'>177</a>\u001b[0m     )\n\u001b[1;32m    <a href='file:///Users/arturmiroszewski/opt/anaconda3/envs/quantum/lib/python3.10/site-packages/pennylane/transforms/qfunc_transforms.py?line=177'>178</a>\u001b[0m \u001b[39mif\u001b[39;00m \u001b[39misinstance\u001b[39m(fn, qml\u001b[39m.\u001b[39mQNode):\n\u001b[0;32m--> <a href='file:///Users/arturmiroszewski/opt/anaconda3/envs/quantum/lib/python3.10/site-packages/pennylane/transforms/qfunc_transforms.py?line=178'>179</a>\u001b[0m     \u001b[39mraise\u001b[39;00m \u001b[39mValueError\u001b[39;00m(\u001b[39m\"\u001b[39m\u001b[39mQNodes cannot be declared as qfunc transforms.\u001b[39m\u001b[39m\"\u001b[39m)\n\u001b[1;32m    <a href='file:///Users/arturmiroszewski/opt/anaconda3/envs/quantum/lib/python3.10/site-packages/pennylane/transforms/qfunc_transforms.py?line=180'>181</a>\u001b[0m \u001b[39m@functools\u001b[39m\u001b[39m.\u001b[39mwraps(fn)\n\u001b[1;32m    <a href='file:///Users/arturmiroszewski/opt/anaconda3/envs/quantum/lib/python3.10/site-packages/pennylane/transforms/qfunc_transforms.py?line=181'>182</a>\u001b[0m \u001b[39mdef\u001b[39;00m \u001b[39minternal_wrapper\u001b[39m(\u001b[39m*\u001b[39margs, \u001b[39m*\u001b[39m\u001b[39m*\u001b[39mkwargs):\n\u001b[1;32m    <a href='file:///Users/arturmiroszewski/opt/anaconda3/envs/quantum/lib/python3.10/site-packages/pennylane/transforms/qfunc_transforms.py?line=182'>183</a>\u001b[0m     tape \u001b[39m=\u001b[39m make_qscript(fn)(\u001b[39m*\u001b[39margs, \u001b[39m*\u001b[39m\u001b[39m*\u001b[39mkwargs)\n",
      "\u001b[0;31mValueError\u001b[0m: QNodes cannot be declared as qfunc transforms."
     ]
    }
   ],
   "source": [
    "@qml.transforms.merge_amplitude_embedding\n",
    "@qml.qnode(device=dev)\n",
    "def circuit():\n",
    "    qml.CNOT(wires = [0,1])\n",
    "    qml.AmplitudeEmbedding([0,1], wires = 2)\n",
    "    qml.AmplitudeEmbedding([0,1], wires = 3)\n",
    "    return qml.state()"
   ]
  },
  {
   "cell_type": "markdown",
   "metadata": {},
   "source": [
    "## State solution"
   ]
  },
  {
   "cell_type": "code",
   "execution_count": 3,
   "metadata": {},
   "outputs": [],
   "source": [
    "import numpy as np"
   ]
  },
  {
   "cell_type": "code",
   "execution_count": 4,
   "metadata": {},
   "outputs": [],
   "source": [
    "def gram_schmidt(vectors):\n",
    "    \"\"\"Apply Gram-Schmidt process to a set of vectors.\"\"\"\n",
    "    orthonormal_basis = []\n",
    "    for v in vectors:\n",
    "        # Subtract projections of v onto all previously found basis vectors\n",
    "        for b in orthonormal_basis:\n",
    "            v = v - np.dot(b, v) * b\n",
    "        # Normalize the vector\n",
    "        v = v / np.linalg.norm(v)\n",
    "        orthonormal_basis.append(v)\n",
    "    return np.array(orthonormal_basis)\n",
    "\n",
    "def construct_unitary(first_col):\n",
    "    \"\"\"Construct a unitary matrix with a given normalized vector as the first column.\"\"\"\n",
    "    # Ensure the first column is normalized\n",
    "    first_col = first_col / np.linalg.norm(first_col)\n",
    "    \n",
    "    # Get the dimension of the vector space (N)\n",
    "    N = len(first_col)\n",
    "    \n",
    "    # Create an identity matrix as the starting point for other vectors\n",
    "    # These will serve as the basis to which we apply Gram-Schmidt\n",
    "    identity_matrix = np.eye(N)\n",
    "    \n",
    "    # Remove the first column from the identity matrix as we already have the first column\n",
    "    remaining_cols = identity_matrix[:, 1:]\n",
    "    \n",
    "    # Apply Gram-Schmidt process to orthogonalize the rest of the columns\n",
    "    full_matrix = np.column_stack((first_col, remaining_cols))\n",
    "    orthonormal_matrix = gram_schmidt(full_matrix.T).T  # Ensure columns are orthogonalized\n",
    "    \n",
    "    return orthonormal_matrix"
   ]
  },
  {
   "cell_type": "code",
   "execution_count": 5,
   "metadata": {},
   "outputs": [],
   "source": [
    "import numpy as np\n",
    "\n",
    "def block_matrix_IU(U):\n",
    "    \"\"\"Create block matrix [[I, 0], [0, U]] where I is an identity matrix of size U.shape[0].\"\"\"\n",
    "    N = U.shape[0]  # Size of the unitary matrix U\n",
    "    I = np.eye(N)   # Identity matrix of size N\n",
    "    \n",
    "    # Create the block matrix [[I, 0], [0, U]]\n",
    "    top_block = np.hstack((I, np.zeros((N, N))))\n",
    "    bottom_block = np.hstack((np.zeros((N, N)), U))\n",
    "    block_matrix = np.vstack((top_block, bottom_block))\n",
    "    \n",
    "    return block_matrix\n",
    "\n",
    "def block_matrix_UI(U):\n",
    "    \"\"\"Create block matrix [[U, 0], [0, I]] where I is an identity matrix of size U.shape[0].\"\"\"\n",
    "    N = U.shape[0]  # Size of the unitary matrix U\n",
    "    I = np.eye(N)   # Identity matrix of size N\n",
    "    \n",
    "    # Create the block matrix [[U, 0], [0, I]]\n",
    "    top_block = np.hstack((U, np.zeros((N, N))))\n",
    "    bottom_block = np.hstack((np.zeros((N, N)), I))\n",
    "    block_matrix = np.vstack((top_block, bottom_block))\n",
    "    \n",
    "    return block_matrix"
   ]
  },
  {
   "cell_type": "code",
   "execution_count": 6,
   "metadata": {},
   "outputs": [
    {
     "name": "stdout",
     "output_type": "stream",
     "text": [
      "Unitary matrix:\n",
      "[[ 0.8 -0.6]\n",
      " [ 0.6  0.8]]\n"
     ]
    }
   ],
   "source": [
    "# Example usage\n",
    "first_col = np.array([0.8, 0.6])  # Example normalized vector\n",
    "unitary_matrix = construct_unitary(first_col)\n",
    "print(\"Unitary matrix:\")\n",
    "print(unitary_matrix)"
   ]
  },
  {
   "cell_type": "code",
   "execution_count": 7,
   "metadata": {},
   "outputs": [
    {
     "name": "stdout",
     "output_type": "stream",
     "text": [
      "Block matrix [[I, 0], [0, U]]:\n",
      "[[ 1.   0.   0.   0. ]\n",
      " [ 0.   1.   0.   0. ]\n",
      " [ 0.   0.   0.8 -0.6]\n",
      " [ 0.   0.   0.6  0.8]]\n",
      "\n",
      "Block matrix [[U, 0], [0, I]]:\n",
      "[[ 0.8 -0.6  0.   0. ]\n",
      " [ 0.6  0.8  0.   0. ]\n",
      " [ 0.   0.   1.   0. ]\n",
      " [ 0.   0.   0.   1. ]]\n"
     ]
    }
   ],
   "source": [
    "# Example usage\n",
    "U = np.array([[0.8, -0.6], [0.6, 0.8]])  # Example 2x2 unitary matrix\n",
    "\n",
    "# Create block matrices\n",
    "block_IU = block_matrix_IU(U)\n",
    "block_UI = block_matrix_UI(U)\n",
    "\n",
    "# Print the results\n",
    "print(\"Block matrix [[I, 0], [0, U]]:\")\n",
    "print(block_IU)\n",
    "\n",
    "print(\"\\nBlock matrix [[U, 0], [0, I]]:\")\n",
    "print(block_UI)"
   ]
  },
  {
   "cell_type": "code",
   "execution_count": 8,
   "metadata": {},
   "outputs": [],
   "source": [
    "from qiskit import QuantumCircuit\n",
    "from qiskit.quantum_info import Statevector\n",
    "from qiskit.circuit.library import UnitaryGate"
   ]
  },
  {
   "cell_type": "code",
   "execution_count": 16,
   "metadata": {},
   "outputs": [
    {
     "name": "stdout",
     "output_type": "stream",
     "text": [
      "v_1:  [0.70710678 0.70710678]\n",
      "v_2:  [0.89442719 0.4472136 ]\n"
     ]
    }
   ],
   "source": [
    "n=1\n",
    "# Define expected states for the superposition of the system\n",
    "v_1 = np.ones((2**n,))\n",
    "v_1 = v_1/np.linalg.norm(v_1)\n",
    "print('v_1: ', v_1)\n",
    "\n",
    "v_2 = np.zeros((2**n,))\n",
    "v_2[-1] = 1\n",
    "v_2[0] = 2\n",
    "v_2 = v_2/np.linalg.norm(v_2)\n",
    "print('v_2: ', v_2)"
   ]
  },
  {
   "cell_type": "code",
   "execution_count": 17,
   "metadata": {},
   "outputs": [],
   "source": [
    "U_1_m = construct_unitary(v_1)\n",
    "CU_1_m = block_matrix_UI(U_1_m)\n",
    "\n",
    "U_2_m = construct_unitary(v_2)\n",
    "CU_2_m = block_matrix_UI(U_2_m)"
   ]
  },
  {
   "cell_type": "code",
   "execution_count": 19,
   "metadata": {},
   "outputs": [],
   "source": [
    "CU_1 = UnitaryGate(CU_1_m)\n",
    "CU_2 = UnitaryGate(CU_2_m)"
   ]
  },
  {
   "cell_type": "code",
   "execution_count": 35,
   "metadata": {},
   "outputs": [
    {
     "name": "stdout",
     "output_type": "stream",
     "text": [
      "[0.632+0.j 0.316+0.j 0.5  +0.j 0.5  +0.j]\n"
     ]
    },
    {
     "data": {
      "image/png": "[encoded data removed]",
      "text/plain": [
       "<Figure size 621.739x200.667 with 1 Axes>"
      ]
     },
     "execution_count": 35,
     "metadata": {},
     "output_type": "execute_result"
    }
   ],
   "source": [
    "qc = QuantumCircuit(n+1)\n",
    "qc.h(1)\n",
    "qc.append(CU_1,[0,1])\n",
    "qc.x(1)\n",
    "qc.append(CU_2,[0,1])\n",
    "print(np.around(Statevector(qc),decimals=3))\n",
    "qc.draw('mpl')"
   ]
  },
  {
   "cell_type": "code",
   "execution_count": 38,
   "metadata": {},
   "outputs": [
    {
     "data": {
      "text/plain": [
       "0.3162277660168379"
      ]
     },
     "execution_count": 38,
     "metadata": {},
     "output_type": "execute_result"
    }
   ],
   "source": [
    "v_2[1]/np.sqrt(2)"
   ]
  },
  {
   "cell_type": "code",
   "execution_count": 13,
   "metadata": {},
   "outputs": [
    {
     "data": {
      "text/plain": [
       "<qiskit.circuit.instructionset.InstructionSet at 0x13072d180>"
      ]
     },
     "execution_count": 13,
     "metadata": {},
     "output_type": "execute_result"
    }
   ],
   "source": [
    "qc.append(CU_1, [0,1])"
   ]
  },
  {
   "cell_type": "code",
   "execution_count": 14,
   "metadata": {},
   "outputs": [
    {
     "data": {
      "image/png": "[encoded data removed]",
      "text/plain": [
       "<Figure size 287.294x200.667 with 1 Axes>"
      ]
     },
     "execution_count": 14,
     "metadata": {},
     "output_type": "execute_result"
    }
   ],
   "source": [
    "qc.draw('mpl')"
   ]
  },
  {
   "cell_type": "code",
   "execution_count": 5,
   "metadata": {},
   "outputs": [
    {
     "name": "stdout",
     "output_type": "stream",
     "text": [
      "Check unitarity (U * U†):\n",
      "True\n"
     ]
    }
   ],
   "source": [
    "# Verify unitarity: U * U† = I\n",
    "print(\"Check unitarity (U * U†):\")\n",
    "print(np.allclose(np.eye(len(first_col)), unitary_matrix @ unitary_matrix.T.conj()))"
   ]
  },
  {
   "cell_type": "code",
   "execution_count": 6,
   "metadata": {},
   "outputs": [],
   "source": [
    "v = np.array([1,1])\n",
    "v = v/np.linalg.norm(v)\n",
    "U = construct_unitary(v)"
   ]
  },
  {
   "cell_type": "code",
   "execution_count": 7,
   "metadata": {},
   "outputs": [
    {
     "data": {
      "text/plain": [
       "array([[ 0.70710678, -0.70710678],\n",
       "       [ 0.70710678,  0.70710678]])"
      ]
     },
     "execution_count": 7,
     "metadata": {},
     "output_type": "execute_result"
    }
   ],
   "source": [
    "U"
   ]
  },
  {
   "cell_type": "code",
   "execution_count": 40,
   "metadata": {},
   "outputs": [],
   "source": [
    "from Qiskit.lib.controlled_initialization import controlled_initialization_matrix\n",
    "import numpy as np\n",
    "\n",
    "from qiskit import QuantumCircuit\n",
    "from qiskit.quantum_info import Statevector\n",
    "from qiskit.circuit.library import UnitaryGate"
   ]
  },
  {
   "cell_type": "code",
   "execution_count": 41,
   "metadata": {},
   "outputs": [
    {
     "name": "stdout",
     "output_type": "stream",
     "text": [
      "v_1:  [0.70710678 0.70710678]\n",
      "v_2:  [0.89442719 0.4472136 ]\n"
     ]
    }
   ],
   "source": [
    "n=1\n",
    "# Define expected states for the superposition of the system\n",
    "v_1 = np.ones((2**n,))\n",
    "v_1 = v_1/np.linalg.norm(v_1)\n",
    "print('v_1: ', v_1)\n",
    "\n",
    "v_2 = np.zeros((2**n,))\n",
    "v_2[-1] = 1\n",
    "v_2[0] = 2\n",
    "v_2 = v_2/np.linalg.norm(v_2)\n",
    "print('v_2: ', v_2)"
   ]
  },
  {
   "cell_type": "code",
   "execution_count": 56,
   "metadata": {},
   "outputs": [],
   "source": [
    "CU_1_m = controlled_initialization_matrix(v_1)\n",
    "CU_2_m = controlled_initialization_matrix(v_2)\n",
    "\n",
    "CU_1 = UnitaryGate(CU_1_m, label=r'$U_{\\tilde{u}}$')\n",
    "CU_2 = UnitaryGate(CU_2_m, label=r'$U_{\\tilde{x}}$')"
   ]
  },
  {
   "cell_type": "code",
   "execution_count": 57,
   "metadata": {},
   "outputs": [
    {
     "name": "stdout",
     "output_type": "stream",
     "text": [
      "[ 0.801+0.j  0.577+0.j -0.094+0.j  0.13 +0.j]\n"
     ]
    },
    {
     "data": {
      "image/png": "[encoded data removed]",
      "text/plain": [
       "<Figure size 538.128x200.667 with 1 Axes>"
      ]
     },
     "execution_count": 57,
     "metadata": {},
     "output_type": "execute_result"
    }
   ],
   "source": [
    "qc = QuantumCircuit(n+1)\n",
    "qc.h(1)\n",
    "qc.append(CU_1,[0,1])\n",
    "qc.x(1)\n",
    "qc.append(CU_2,[0,1])\n",
    "qc.h(1)\n",
    "print(np.around(Statevector(qc),decimals=3))\n",
    "qc.draw('mpl')"
   ]
  },
  {
   "cell_type": "code",
   "execution_count": 58,
   "metadata": {},
   "outputs": [
    {
     "data": {
      "text/plain": [
       "[0, 1, 2, 3, 4]"
      ]
     },
     "execution_count": 58,
     "metadata": {},
     "output_type": "execute_result"
    }
   ],
   "source": [
    "list(range(5))"
   ]
  },
  {
   "cell_type": "code",
   "execution_count": 61,
   "metadata": {},
   "outputs": [
    {
     "name": "stdout",
     "output_type": "stream",
     "text": [
      "Probability that the most significant bit is 1: 0.5\n"
     ]
    }
   ],
   "source": [
    "def msb_probability(statevector):\n",
    "    \"\"\"Calculate the probability that the most significant bit is 1.\"\"\"\n",
    "    # Get the number of qubits from the size of the statevector\n",
    "    num_qubits = int(np.log2(len(statevector)))\n",
    "\n",
    "    # Initialize the probability sum for MSB = 1\n",
    "    probability_msb_1 = 0.0\n",
    "\n",
    "    # Iterate over the basis states\n",
    "    for index, amplitude in enumerate(statevector):\n",
    "        # Convert the index to its binary representation with num_qubits bits\n",
    "        binary_state = format(index, f'0{num_qubits}b')\n",
    "        \n",
    "        # Check if the most significant bit (MSB) is 1\n",
    "        if binary_state[0] == '1':  # MSB is the first bit in the binary string\n",
    "            probability_msb_1 += np.abs(amplitude) ** 2  # Add the probability amplitude\n",
    "\n",
    "    return probability_msb_1\n",
    "\n",
    "# Example usage\n",
    "# Create a Statevector |ψ⟩ (for example, an equal superposition state of 2 qubits)\n",
    "#initial_state = Statevector.from_label('00') + Statevector.from_label('01') + Statevector.from_label('10') + Statevector.from_label('11')\n",
    "#print(initial_state)\n",
    "#initial_state = initial_state.normalize()  # Normalize the statevector\n",
    "\n",
    "v = np.array([1,1,1,1])\n",
    "v = v/np.linalg.norm(v)\n",
    "initial_state = Statevector(v)\n",
    "\n",
    "# Calculate the probability that the MSB is 1\n",
    "prob_msb_1 = msb_probability(initial_state)\n",
    "print(f\"Probability that the most significant bit is 1: {prob_msb_1}\")"
   ]
  },
  {
   "cell_type": "code",
   "execution_count": 63,
   "metadata": {},
   "outputs": [
    {
     "data": {
      "text/plain": [
       "array([0.25, 0.25, 0.25, 0.25])"
      ]
     },
     "execution_count": 63,
     "metadata": {},
     "output_type": "execute_result"
    }
   ],
   "source": [
    "initial_state.probabilities()"
   ]
  },
  {
   "cell_type": "code",
   "execution_count": 65,
   "metadata": {},
   "outputs": [
    {
     "name": "stdout",
     "output_type": "stream",
     "text": [
      "0 (0.5+0j)\n",
      "00\n",
      "1 (0.5+0j)\n",
      "01\n",
      "2 (0.5+0j)\n",
      "10\n",
      "3 (0.5+0j)\n",
      "11\n"
     ]
    }
   ],
   "source": [
    "for index, amplitude in enumerate(initial_state):\n",
    "    print(index, amplitude)\n",
    "    binary_state = format(index, f'0{2}b')\n",
    "    print(binary_state)"
   ]
  },
  {
   "cell_type": "code",
   "execution_count": 10,
   "metadata": {},
   "outputs": [],
   "source": [
    "import numpy as np\n",
    "import matplotlib.pyplot as plt"
   ]
  },
  {
   "cell_type": "code",
   "execution_count": 45,
   "metadata": {},
   "outputs": [],
   "source": [
    "P=0.95\n",
    "step=0.01\n",
    "P_x = np.arange(0,1,step, dtype=float)"
   ]
  },
  {
   "cell_type": "code",
   "execution_count": 46,
   "metadata": {},
   "outputs": [
    {
     "data": {
      "image/png": "[encoded data removed]",
      "text/plain": [
       "<Figure size 640x480 with 1 Axes>"
      ]
     },
     "metadata": {},
     "output_type": "display_data"
    }
   ],
   "source": [
    "plt.plot(P_x, -np.log(1-P_x), label='-log(1-P)')\n",
    "plt.plot(P_x, 1/(1-P_x), label='1/(1-P)')\n",
    "\n",
    "plt.xlim((0.8,1))\n",
    "\n",
    "plt.legend()\n",
    "plt.show()"
   ]
  },
  {
   "cell_type": "code",
   "execution_count": 53,
   "metadata": {},
   "outputs": [
    {
     "name": "stdout",
     "output_type": "stream",
     "text": [
      "1.4999999999999998\n"
     ]
    }
   ],
   "source": [
    "C_k = 10\n",
    "C_D = 1\n",
    "n_x = np.arange(1,60)\n",
    "alpha_k = 0.3\n",
    "alpha_D = 0.2\n",
    "print(alpha_k/alpha_D)"
   ]
  },
  {
   "cell_type": "code",
   "execution_count": 54,
   "metadata": {},
   "outputs": [
    {
     "data": {
      "image/png": "[encoded data removed]",
      "text/plain": [
       "<Figure size 640x480 with 1 Axes>"
      ]
     },
     "metadata": {},
     "output_type": "display_data"
    }
   ],
   "source": [
    "plt.plot(n_x, 1/C_k*np.power(2,alpha_k*n_x))\n",
    "plt.plot(n_x, C_k/C_D*np.power(2,n_x*(2*alpha_D-alpha_k))*(1-C_k*np.power(2,-alpha_k*n_x))-1)\n",
    "\n",
    "\n",
    "plt.yscale('log')\n",
    "plt.show()"
   ]
  },
  {
   "cell_type": "code",
   "execution_count": 62,
   "metadata": {},
   "outputs": [
    {
     "name": "stderr",
     "output_type": "stream",
     "text": [
      "/var/folders/pz/rn2xqvpd1rj6nvf70v0hgm3h0000gp/T/ipykernel_37478/2673661391.py:2: RuntimeWarning: divide by zero encountered in divide\n",
      "  plt.plot(n_x, -1/np.log(1-np.power(2,-n_x.astype(np.float32))))\n"
     ]
    },
    {
     "data": {
      "image/png": "[encoded data removed]",
      "text/plain": [
       "<Figure size 640x480 with 1 Axes>"
      ]
     },
     "metadata": {},
     "output_type": "display_data"
    }
   ],
   "source": [
    "plt.plot(n_x, np.power(2,n_x)*(1+np.power(2,-n_x.astype(np.float32))))\n",
    "plt.plot(n_x, -1/np.log(1-np.power(2,-n_x.astype(np.float32))))\n",
    "\n",
    "plt.yscale('log')\n",
    "plt.show()"
   ]
  },
  {
   "cell_type": "code",
   "execution_count": 50,
   "metadata": {},
   "outputs": [
    {
     "data": {
      "text/plain": [
       "array([ 1,  2,  3,  4,  5,  6,  7,  8,  9, 10, 11, 12, 13, 14, 15, 16, 17,\n",
       "       18, 19, 20, 21, 22, 23, 24, 25, 26, 27, 28, 29, 30, 31, 32, 33, 34,\n",
       "       35, 36, 37, 38, 39, 40, 41, 42, 43, 44, 45, 46, 47, 48, 49, 50, 51,\n",
       "       52, 53, 54, 55, 56, 57, 58, 59, 60, 61, 62, 63, 64, 65, 66, 67, 68,\n",
       "       69, 70, 71, 72, 73, 74, 75, 76, 77, 78, 79, 80, 81, 82, 83, 84, 85,\n",
       "       86, 87, 88, 89, 90, 91, 92, 93, 94, 95, 96, 97, 98, 99])"
      ]
     },
     "execution_count": 50,
     "metadata": {},
     "output_type": "execute_result"
    }
   ],
   "source": [
    "n_x"
   ]
  },
  {
   "cell_type": "code",
   "execution_count": 69,
   "metadata": {},
   "outputs": [],
   "source": [
    "from scipy.stats import beta"
   ]
  },
  {
   "cell_type": "code",
   "execution_count": 70,
   "metadata": {},
   "outputs": [],
   "source": [
    "x = np.arange(0,1,0.01)"
   ]
  },
  {
   "cell_type": "code",
   "execution_count": 121,
   "metadata": {},
   "outputs": [],
   "source": [
    "n=2\n",
    "\n",
    "alpha_alpha = -1.0\n",
    "alpha_beta = -2.0\n",
    "\n",
    "a = np.power(2,1*alpha_alpha)\n",
    "b = np.power(2,1*alpha_beta)"
   ]
  },
  {
   "cell_type": "code",
   "execution_count": 122,
   "metadata": {},
   "outputs": [],
   "source": [
    "def a(n, aplha_alpha):\n",
    "    return(np.power(2,n*alpha_alpha))\n",
    "\n",
    "def b(n, aplha_beta):\n",
    "    return(np.power(2,n*aplha_beta))"
   ]
  },
  {
   "cell_type": "code",
   "execution_count": 123,
   "metadata": {},
   "outputs": [
    {
     "data": {
      "image/png": "[encoded data removed]",
      "text/plain": [
       "<Figure size 640x480 with 1 Axes>"
      ]
     },
     "metadata": {},
     "output_type": "display_data"
    }
   ],
   "source": [
    "plt.plot(beta.pdf(x, a(2,alpha_alpha), b(2,alpha_beta)))\n",
    "plt.show()"
   ]
  },
  {
   "cell_type": "code",
   "execution_count": 124,
   "metadata": {},
   "outputs": [
    {
     "data": {
      "text/plain": [
       "[6.0,\n",
       " 5.25,\n",
       " 6.5625,\n",
       " 10.265625,\n",
       " 18.12890625,\n",
       " 34.0634765625,\n",
       " 66.031494140625,\n",
       " 130.01568603515625,\n",
       " 258.00782775878906,\n",
       " 514.0039100646973,\n",
       " 1026.0019540786743,\n",
       " 2050.0009768009186,\n",
       " 4098.000488340855,\n",
       " 8194.000244155526,\n",
       " 16386.000122074038,\n",
       " 32770.00006103609,\n",
       " 65538.00003051781,\n",
       " 131074.00001525885,\n",
       " 262146.00000762945,\n",
       " 524290.0000038147,\n",
       " 1048578.0000019073,\n",
       " 2097154.0000009537,\n",
       " 4194306.000000477,\n",
       " 8388610.000000238,\n",
       " 16777218.00000012,\n",
       " 33554434.00000006,\n",
       " 67108866.00000003,\n",
       " 134217729.99999997,\n",
       " 268435458.0,\n",
       " 536870914.0]"
      ]
     },
     "execution_count": 124,
     "metadata": {},
     "output_type": "execute_result"
    }
   ],
   "source": [
    "[beta.mean(a(n,alpha_alpha), b(n,alpha_beta))/beta.var(a(n,alpha_alpha), b(n,alpha_beta)) for n in range(30)]"
   ]
  },
  {
   "cell_type": "code",
   "execution_count": 125,
   "metadata": {},
   "outputs": [
    {
     "data": {
      "image/png": "[encoded data removed]",
      "text/plain": [
       "<Figure size 640x480 with 1 Axes>"
      ]
     },
     "metadata": {},
     "output_type": "display_data"
    }
   ],
   "source": [
    "plt.plot([(beta.mean(a(n,alpha_alpha), b(n,alpha_beta))*(1-beta.mean(a(n,alpha_alpha), b(n,alpha_beta))))/beta.var(a(n,alpha_alpha), b(n,alpha_beta)) for n in range(30)])\n",
    "plt.yscale('log')\n",
    "plt.show()"
   ]
  },
  {
   "cell_type": "code",
   "execution_count": 128,
   "metadata": {},
   "outputs": [
    {
     "data": {
      "image/png": "[encoded data removed]",
      "text/plain": [
       "<Figure size 640x480 with 1 Axes>"
      ]
     },
     "metadata": {},
     "output_type": "display_data"
    }
   ],
   "source": [
    "plt.plot([beta.var(a(n,alpha_alpha), b(n,alpha_beta)) for n in range(30)])\n",
    "plt.yscale('log')"
   ]
  },
  {
   "cell_type": "code",
   "execution_count": 129,
   "metadata": {},
   "outputs": [
    {
     "data": {
      "image/png": "[encoded data removed]",
      "text/plain": [
       "<Figure size 640x480 with 1 Axes>"
      ]
     },
     "metadata": {},
     "output_type": "display_data"
    }
   ],
   "source": [
    "plt.plot([beta.mean(a(n,alpha_alpha), b(n,alpha_beta)) for n in range(30)])\n",
    "plt.yscale('log')"
   ]
  },
  {
   "cell_type": "code",
   "execution_count": null,
   "metadata": {},
   "outputs": [],
   "source": []
  }
 ],
 "metadata": {
  "interpreter": {
   "hash": "2fa73f1293ed483c78b6a32360b40bbd1df395280783fc5aaaa46bc6bb5efdbd"
  },
  "kernelspec": {
   "display_name": "Python 3.10.8 ('quantum')",
   "language": "python",
   "name": "python3"
  },
  "language_info": {
   "codemirror_mode": {
    "name": "ipython",
    "version": 3
   },
   "file_extension": ".py",
   "mimetype": "text/x-python",
   "name": "python",
   "nbconvert_exporter": "python",
   "pygments_lexer": "ipython3",
   "version": "3.10.8"
  },
  "orig_nbformat": 4
 },
 "nbformat": 4,
 "nbformat_minor": 2
}
